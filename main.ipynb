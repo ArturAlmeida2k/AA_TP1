{
 "cells": [
  {
   "cell_type": "markdown",
   "metadata": {},
   "source": [
    "# 📥 Importação das Bibliotecas"
   ]
  },
  {
   "cell_type": "code",
   "execution_count": null,
   "metadata": {},
   "outputs": [],
   "source": [
    "import pandas as pd\n",
    "import numpy as np\n",
    "import matplotlib.pyplot as plt\n",
    "import data\n",
    "import treino\n",
    "\n",
    "from sklearn.model_selection import StratifiedShuffleSplit\n",
    "from sklearn.preprocessing import StandardScaler\n",
    "from sklearn.linear_model import LogisticRegression #logistic regression\n",
    "from sklearn import metrics #accuracy measure"
   ]
  },
  {
   "cell_type": "markdown",
   "metadata": {},
   "source": [
    "# 📊 Carregar e Inspecionar os Dados"
   ]
  },
  {
   "cell_type": "code",
   "execution_count": null,
   "metadata": {},
   "outputs": [],
   "source": [
    "# Carregar os dados\n",
    "df = pd.read_csv('Data/bank.csv')\n",
    "#df = pd.read_csv('/home/rafa/Secretária/AA/AA_TP1/Data/bank.csv')\n",
    "\n",
    "# Exibir as primeiras linhas\n",
    "print(df.head())\n",
    "\n",
    "# Verificar valores ausentes\n",
    "print(df.isnull().sum())\n",
    "\n",
    "# Estatísticas básicas\n",
    "print(df.describe())\n",
    "\n",
    "# Distribuição da variável alvo\n",
    "print(df['deposit'].value_counts())\n",
    "\n",
    "# Tipos de dados\n",
    "print(df.dtypes)"
   ]
  },
  {
   "cell_type": "markdown",
   "metadata": {},
   "source": [
    "# 📊 Visualização dos Dados"
   ]
  },
  {
   "cell_type": "code",
   "execution_count": null,
   "metadata": {},
   "outputs": [],
   "source": [
    "data.vis(df)"
   ]
  },
  {
   "cell_type": "markdown",
   "metadata": {},
   "source": [
    "# 🧹 Pré-Processamento dos Dados"
   ]
  },
  {
   "cell_type": "code",
   "execution_count": null,
   "metadata": {},
   "outputs": [],
   "source": [
    "# Aplicar pré-processamento\n",
    "df = data.preposessing(df)\n",
    "\n",
    "# print(df)\n",
    "# print(df.describe())\n",
    "# df.to_csv('AA_TP1/Data/bank_preprocessed.csv', index=False)"
   ]
  },
  {
   "cell_type": "markdown",
   "metadata": {},
   "source": [
    "# ✂️ Divisão dos Dados em Treino e Teste"
   ]
  },
  {
   "cell_type": "code",
   "execution_count": null,
   "metadata": {},
   "outputs": [],
   "source": [
    "# Criar divisão estratificada dos dados\n",
    "split = StratifiedShuffleSplit(n_splits=1, test_size=0.2, random_state=5)\n",
    "\n",
    "for train_index, test_index in split.split(df, df['deposit']):\n",
    "    train = df.loc[train_index]\n",
    "    test = df.loc[test_index]\n",
    "\n",
    "# Exibir a proporção dos depósitos em cada conjunto\n",
    "print(\"Proporção no conjunto de treino:\")\n",
    "print(train['deposit'].value_counts() / train.shape[0])\n",
    "\n",
    "print(\"\\nProporção no conjunto de teste:\")\n",
    "print(test['deposit'].value_counts() / test.shape[0])"
   ]
  },
  {
   "cell_type": "markdown",
   "metadata": {},
   "source": [
    "# 🎯 Separação de Features (`X`) e Rótulo (`y`)"
   ]
  },
  {
   "cell_type": "code",
   "execution_count": null,
   "metadata": {},
   "outputs": [],
   "source": [
    "# Separar features e rótulo no treino\n",
    "X_train = train.drop(columns=['deposit'])\n",
    "y_train = train['deposit']\n",
    "\n",
    "# Separar features e rótulo no teste\n",
    "X_test = test.drop(columns=['deposit'])\n",
    "y_test = test['deposit']"
   ]
  },
  {
   "cell_type": "markdown",
   "metadata": {},
   "source": [
    "# 📏 Normalização dos Dados"
   ]
  },
  {
   "cell_type": "code",
   "execution_count": null,
   "metadata": {},
   "outputs": [],
   "source": [
    "# Inicializar o normalizador\n",
    "scaler = StandardScaler()\n",
    "\n",
    "# Ajustar e transformar os dados\n",
    "X_train = scaler.fit_transform(X_train)\n",
    "X_test = scaler.transform(X_test)"
   ]
  },
  {
   "cell_type": "markdown",
   "metadata": {},
   "source": [
    "# 🤖 Treinamento do Modelo"
   ]
  },
  {
   "cell_type": "code",
   "execution_count": null,
   "metadata": {},
   "outputs": [],
   "source": [
    "# Chamar função de treino da rede neural\n",
    "treino.rede_neural2(X_train, y_train, X_test, y_test)"
   ]
  }
 ],
 "metadata": {
  "kernelspec": {
   "display_name": "base",
   "language": "python",
   "name": "python3"
  },
  "language_info": {
   "codemirror_mode": {
    "name": "ipython",
    "version": 3
   },
   "file_extension": ".py",
   "mimetype": "text/x-python",
   "name": "python",
   "nbconvert_exporter": "python",
   "pygments_lexer": "ipython3",
   "version": "3.12.7"
  }
 },
 "nbformat": 4,
 "nbformat_minor": 2
}
