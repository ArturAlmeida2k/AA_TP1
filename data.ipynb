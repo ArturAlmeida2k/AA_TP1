{
 "cells": [
  {
   "cell_type": "markdown",
   "metadata": {},
   "source": [
    "# 📥 Importação das Bibliotecas"
   ]
  },
  {
   "cell_type": "code",
   "execution_count": null,
   "metadata": {},
   "outputs": [],
   "source": [
    "import pandas as pd\n",
    "import numpy as np\n",
    "import matplotlib.pyplot as plt\n",
    "from sklearn.preprocessing import LabelEncoder"
   ]
  },
  {
   "cell_type": "markdown",
   "metadata": {},
   "source": [
    "# 📊 Função `vis(df)`: Visualização dos Dados"
   ]
  },
  {
   "cell_type": "code",
   "execution_count": 8,
   "metadata": {},
   "outputs": [],
   "source": [
    "def vis(df):\n",
    "    \n",
    "    # Pie Chart da variável alvo (depósitos)\n",
    "    plt.pie(df['deposit'].value_counts(), labels=['no', 'yes'], autopct='%1.1f%%', startangle=-90, colors=['lightcoral', 'lightgreen'])\n",
    "    plt.title('Distribuição dos Depósitos')\n",
    "    plt.show()\n",
    "\n",
    "    # Ordenar os meses antes de exibir\n",
    "    ordem_meses = ['jan', 'feb', 'mar', 'apr', 'may', 'jun', 'jul', 'aug', 'sep', 'oct', 'nov', 'dec']\n",
    "    df['month'] = pd.Categorical(df['month'], categories=ordem_meses, ordered=True)\n",
    "\n",
    "    # Gráfico de barras para depósitos por profissão\n",
    "    plt.figure(figsize=(20, 10))\n",
    "    df.groupby(['job', 'deposit']).size().unstack().plot(\n",
    "        kind='bar',\n",
    "        stacked=False,\n",
    "        ax=plt.gca(),\n",
    "        color=['lightcoral', 'lightgreen'],\n",
    "        edgecolor='black'\n",
    "    )\n",
    "    plt.title('Distribuição dos Depósitos por Profissão')\n",
    "    plt.xlabel('Profissão')\n",
    "    plt.ylabel('Contagem')\n",
    "    plt.xticks(rotation=0)\n",
    "    plt.tight_layout()\n",
    "    plt.show()\n",
    "\n",
    "    plt.figure(figsize=(20,10))\n",
    "    i = 0\n",
    "    for col in df.columns:\n",
    "        if (df[col].dtype == 'object' and col not in ['deposit', 'job']) or col == 'month':  \n",
    "            i += 1  \n",
    "            plt.subplot(4, 2, i)\n",
    "            df.groupby([col, 'deposit']).size().unstack().plot(\n",
    "                kind='bar', \n",
    "                stacked=False, \n",
    "                ax=plt.gca(),\n",
    "                color=['lightcoral','lightgreen'],\n",
    "                edgecolor='black')\n",
    "            plt.title(f'Distribuição de Depósitos por {col}')\n",
    "            plt.xlabel(col)\n",
    "            plt.ylabel('Contagem')\n",
    "            plt.xticks(rotation=0)\n",
    "    plt.tight_layout()\n",
    "    plt.show()\n",
    "\n",
    "    i = 0\n",
    "    plt.figure(figsize=(20,10))\n",
    "    for col in df.columns:\n",
    "        if df[col].dtype == 'int64':\n",
    "            i += 1\n",
    "            plt.subplot(4, 2, i)\n",
    "\n",
    "            yes_data = df[df['deposit'] == 'yes'][col]\n",
    "            no_data = df[df['deposit'] == 'no'][col]\n",
    "            total_data = df[col]\n",
    "            data_to_plot = [yes_data, no_data, total_data]\n",
    "            colors = ['lightgreen', 'lightcoral', 'lightblue']\n",
    "            boxprops = [dict(facecolor=color, color='blue') for color in colors]\n",
    "\n",
    "            bp = plt.boxplot(data_to_plot, labels=['Yes', 'No', 'Total'], patch_artist=True, \n",
    "                    vert=False,\n",
    "                    medianprops=dict(color='red'),\n",
    "                    whiskerprops=dict(color='blue'),\n",
    "                    capprops=dict(color='blue'),\n",
    "                    flierprops=dict(markerfacecolor='blue', marker='o', markersize=5, linestyle='none'))\n",
    "\n",
    "            for patch, color in zip(bp['boxes'], colors):\n",
    "                patch.set_facecolor(color)\n",
    "\n",
    "            plt.title(f'BoxPlot de {col}')\n",
    "            plt.xlabel(col)\n",
    "            plt.grid(True, alpha=0.3)\n",
    "    plt.tight_layout()\n",
    "    plt.show()\n",
    "\n"
   ]
  },
  {
   "cell_type": "markdown",
   "metadata": {},
   "source": [
    "# 🧹 Função `preposessing(df)`: Pré-Processamento dos Dados"
   ]
  },
  {
   "cell_type": "code",
   "execution_count": 9,
   "metadata": {},
   "outputs": [],
   "source": [
    "def preposessing(df):\n",
    "\n",
    "    dic = {\"yes\":1,\"no\":0}\n",
    "    lst = [\"deposit\",\"loan\",\"default\",\"housing\"]\n",
    "    for i in lst:\n",
    "        df[i] = df[i].map(dic).astype(int)\n",
    "\n",
    "    l=['month',\"contact\",\"poutcome\"]\n",
    "    for i in l:\n",
    "        le=LabelEncoder()\n",
    "        df[i]=le.fit_transform(df[i].values)\n",
    "\n",
    "    df = pd.get_dummies(df, columns = ['job','marital','education'])\n",
    "\n",
    "    # Convertendo colunas booleanas para inteiros\n",
    "    for column in df.columns:\n",
    "        if df[column].dtype == 'bool':\n",
    "            df[column] = df[column].astype(int)\n",
    "\n",
    "    return df"
   ]
  },
  {
   "cell_type": "code",
   "execution_count": null,
   "metadata": {},
   "outputs": [],
   "source": []
  }
 ],
 "metadata": {
  "kernelspec": {
   "display_name": "Python 3",
   "language": "python",
   "name": "python3"
  },
  "language_info": {
   "codemirror_mode": {
    "name": "ipython",
    "version": 3
   },
   "file_extension": ".py",
   "mimetype": "text/x-python",
   "name": "python",
   "nbconvert_exporter": "python",
   "pygments_lexer": "ipython3",
   "version": "3.8.10"
  }
 },
 "nbformat": 4,
 "nbformat_minor": 4
}
