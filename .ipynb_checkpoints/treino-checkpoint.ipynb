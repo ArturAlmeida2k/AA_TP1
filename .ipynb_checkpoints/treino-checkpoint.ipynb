{
 "cells": [
  {
   "cell_type": "markdown",
   "metadata": {},
   "source": [
    "# 📥 Importação das Bibliotecas"
   ]
  },
  {
   "cell_type": "code",
   "execution_count": 6,
   "metadata": {},
   "outputs": [],
   "source": [
    "import tensorflow as tf\n",
    "from tensorflow.keras.models import Sequential\n",
    "from tensorflow.keras.layers import Dense, Dropout\n",
    "import numpy as np"
   ]
  },
  {
   "cell_type": "markdown",
   "metadata": {},
   "source": [
    "# 🧠 Treinamento de Rede Neural com TensorFlow/Keras"
   ]
  },
  {
   "cell_type": "code",
   "execution_count": 7,
   "metadata": {},
   "outputs": [],
   "source": [
    "# Caso necessário, converta o target para formato numérico (0/1) se ainda não estiver\n",
    "# y_train = y_train.map({'no': 0, 'yes': 1})\n",
    "# y_test = y_test.map({'no': 0, 'yes': 1})\n",
    "def rede_neural(X_train, y_train, X_test, y_test):\n",
    "    # Definição da arquitetura do modelo\n",
    "    model = Sequential([\n",
    "        Dense(64, activation='relu', input_shape=(X_train.shape[1], )),\n",
    "        Dropout(0.2),\n",
    "        Dense(32, activation='relu'),\n",
    "        Dropout(0.2),\n",
    "        Dense(1, activation='sigmoid')  # Ajuste para problemas binários\n",
    "    ])\n",
    "\n",
    "    # Compilação do modelo\n",
    "    model.compile(optimizer='adam',\n",
    "                loss='binary_crossentropy',\n",
    "                metrics=['accuracy'])\n",
    "\n",
    "    # Treinamento do modelo\n",
    "    history = model.fit(X_train, y_train, \n",
    "                        epochs=50, \n",
    "                        batch_size=32, \n",
    "                        validation_split=0.2)\n",
    "\n",
    "    # Avaliação do modelo no conjunto de teste\n",
    "    loss, accuracy = model.evaluate(X_test, y_test)\n",
    "    print(f\"Precisão da rede neural no conjunto de teste: {accuracy:.2f}\")\n",
    "\n",
    "    # (Opcional) Visualização dos resultados do treinamento\n",
    "    import matplotlib.pyplot as plt\n",
    "    plt.plot(history.history['accuracy'], label='acurácia treinamento')\n",
    "    plt.plot(history.history['val_accuracy'], label='acurácia validação')\n",
    "    plt.xlabel('Época')\n",
    "    plt.ylabel('Acurácia')\n",
    "    plt.legend()\n",
    "    plt.show()"
   ]
  },
  {
   "cell_type": "markdown",
   "metadata": {},
   "source": [
    "# 📌 Função de Ativação Sigmoid"
   ]
  },
  {
   "cell_type": "code",
   "execution_count": 8,
   "metadata": {},
   "outputs": [],
   "source": [
    "def sigmoid(z):\n",
    "    return 1 / (1 + np.exp(-z))"
   ]
  },
  {
   "cell_type": "markdown",
   "metadata": {},
   "source": [
    "# 🎯 Função `predict()`"
   ]
  },
  {
   "cell_type": "code",
   "execution_count": 9,
   "metadata": {},
   "outputs": [],
   "source": [
    "def predict(Theta1, Theta2, X):\n",
    "    \"\"\"Realiza previsão usando uma rede neural de duas camadas\"\"\"\n",
    "    m = X.shape[0]\n",
    "    \n",
    "    # Adiciona uma coluna de bias (1s) na entrada\n",
    "    X = np.append(np.ones((m, 1)), X, axis=1)\n",
    "    \n",
    "    # Forward propagation - Camada oculta\n",
    "    z1 = np.dot(X, Theta1.T)\n",
    "    a1 = sigmoid(z1)\n",
    "    \n",
    "    # Adiciona coluna de bias na camada oculta\n",
    "    a1 = np.append(np.ones((m, 1)), a1, axis=1)\n",
    "\n",
    "    # Forward propagation - Camada de saída\n",
    "    z2 = np.dot(a1, Theta2.T)\n",
    "    a2 = sigmoid(z2)\n",
    "\n",
    "    return (a2 >= 0.5).astype(int)  # Ajustado para saída binária"
   ]
  },
  {
   "cell_type": "markdown",
   "metadata": {},
   "source": [
    "# 🤖 Treinamento de Rede Neural Manual com NumPy"
   ]
  },
  {
   "cell_type": "code",
   "execution_count": 10,
   "metadata": {},
   "outputs": [],
   "source": [
    "def rede_neural2(X_train, y_train, X_test, y_test):\n",
    "    # Inicialização aleatória dos pesos da rede\n",
    "    print(X_train.shape[1])\n",
    "    input_layer_size = X_train.shape[1]  # Número de features\n",
    "    hidden_layer_size = 25  # Número arbitrário de neurônios na camada oculta\n",
    "    output_layer_size = 1  # Saída binária\n",
    "\n",
    "    # Pesos aleatórios entre -0.5 e 0.5\n",
    "    Theta1 = np.random.rand(hidden_layer_size, input_layer_size + 1) - 0.5\n",
    "    Theta2 = np.random.rand(output_layer_size, hidden_layer_size + 1) - 0.5\n",
    "\n",
    "    # Treinamento simples usando descida do gradiente\n",
    "    alpha = 0.01  # Taxa de aprendizado\n",
    "    epochs = 10000 # Número de iterações do treinamento\n",
    "\n",
    "    for i in range(epochs):\n",
    "        # Forward propagation\n",
    "        m = X_train.shape[0]\n",
    "\n",
    "        # Adiciona bias à entrada\n",
    "        # Calcula a ativação da camada oculta\n",
    "        X_bias = np.append(np.ones((m, 1)), X_train, axis=1)\n",
    "        z1 = np.dot(X_bias, Theta1.T)\n",
    "        a1 = sigmoid(z1)\n",
    "\n",
    "        # Adiciona bias à camada oculta\n",
    "        # Calcula a ativação da saida\n",
    "        a1_bias = np.append(np.ones((m, 1)), a1, axis=1)\n",
    "        z2 = np.dot(a1_bias, Theta2.T)\n",
    "        a2 = sigmoid(z2) # Saída final\n",
    "\n",
    "        # Cálculo do erro\n",
    "        error = a2 - y_train.to_numpy().reshape(-1, 1)\n",
    "\n",
    "        # Backpropagation - Ajuste dos pesos\n",
    "        dTheta2 = np.dot(error.T, a1_bias) / m\n",
    "        dTheta1 = np.dot(((error @ Theta2[:,1:]) * a1 * (1 - a1)).T, X_bias) / m\n",
    "\n",
    "        # Atualização dos pesos\n",
    "        Theta1 -= alpha * dTheta1\n",
    "        Theta2 -= alpha * dTheta2\n",
    "\n",
    "        if i % 100 == 0:\n",
    "            y_train_reshaped = y_train.to_numpy().reshape(-1, 1)  # Converter para array 2D\n",
    "            loss = np.mean(-y_train_reshaped * np.log(a2) - (1 - y_train_reshaped) * np.log(1 - a2))\n",
    "            print(f\"Época {i}: Loss = {loss:.4f}\") # Imprime o erro a cada 100 épocas\n",
    "\n",
    "    # Avaliação do modelo\n",
    "    y_pred = predict(Theta1, Theta2, X_test)\n",
    "\n",
    "    # Calcula a acurácia\n",
    "    accuracy = np.mean(y_pred.flatten() == y_test.values) * 100\n",
    "    print(f\"Acurácia da rede neural: {accuracy:.2f}%\")"
   ]
  }
 ],
 "metadata": {
  "kernelspec": {
   "display_name": "Python 3 (ipykernel)",
   "language": "python",
   "name": "python3"
  },
  "language_info": {
   "codemirror_mode": {
    "name": "ipython",
    "version": 3
   },
   "file_extension": ".py",
   "mimetype": "text/x-python",
   "name": "python",
   "nbconvert_exporter": "python",
   "pygments_lexer": "ipython3",
   "version": "3.12.7"
  }
 },
 "nbformat": 4,
 "nbformat_minor": 4
}
